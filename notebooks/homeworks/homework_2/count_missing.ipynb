{
 "cells": [
  {
   "cell_type": "code",
   "execution_count": 1,
   "metadata": {},
   "outputs": [
    {
     "name": "stdout",
     "output_type": "stream",
     "text": [
      "Blank count: 645\n"
     ]
    }
   ],
   "source": [
    "import openpyxl\n",
    "\n",
    "def count_lines(file_path):\n",
    "    # Load the workbook\n",
    "    workbook = openpyxl.load_workbook(file_path)\n",
    "    \n",
    "    # Assuming you're working with the first sheet, change the sheet name accordingly\n",
    "    sheet = workbook.active\n",
    "    \n",
    "    # Initialize counters\n",
    "    blank_count = 0\n",
    "    \n",
    "    # Iterate through rows\n",
    "    for row in sheet.iter_rows(min_row=0, max_col=4, values_only=True):\n",
    "        if not str(row[0]).startswith('#') and not row[3]:\n",
    "            blank_count += 1\n",
    "    \n",
    "    # Close the workbook\n",
    "    workbook.close()\n",
    "    \n",
    "    # Display results\n",
    "    print(f\"Blank count: {blank_count}\")\n",
    "\n",
    "# Specify the path to your Excel file\n",
    "file_path = './data/test.xlsx'\n",
    "\n",
    "# Call the function\n",
    "count_lines(file_path)\n"
   ]
  }
 ],
 "metadata": {
  "kernelspec": {
   "display_name": "Python 3",
   "language": "python",
   "name": "python3"
  },
  "language_info": {
   "codemirror_mode": {
    "name": "ipython",
    "version": 3
   },
   "file_extension": ".py",
   "mimetype": "text/x-python",
   "name": "python",
   "nbconvert_exporter": "python",
   "pygments_lexer": "ipython3",
   "version": "3.10.12"
  }
 },
 "nbformat": 4,
 "nbformat_minor": 2
}
